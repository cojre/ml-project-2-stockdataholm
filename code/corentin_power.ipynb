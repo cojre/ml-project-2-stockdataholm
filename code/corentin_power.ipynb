{
 "cells": [
  {
   "cell_type": "markdown",
   "metadata": {},
   "source": [
    "# SIUUUUUUUUUUU"
   ]
  },
  {
   "cell_type": "code",
   "execution_count": 2,
   "metadata": {},
   "outputs": [],
   "source": [
    "import scipy.io\n",
    "import pandas as pd\n",
    "\n",
    "mat = scipy.io.loadmat('GHI_mat\\GHI01-Sep-202231-Oct-2022.mat') \n",
    "\n",
    "\n",
    "\n",
    "mat = {k:v for k, v in mat.items() if k[0] != '_'}\n",
    "date = pd.DataFrame(mat['ts'], columns=['time'])\n",
    "val = pd.DataFrame(mat['val'], columns=['value'])\n",
    "data = pd.concat([date, val], axis=1)\n",
    "\n",
    "data.to_csv(\"GHI01-Sep-202231-Oct-2022.csv\")"
   ]
  }
 ],
 "metadata": {
  "kernelspec": {
   "display_name": "Python 3.10.2 64-bit",
   "language": "python",
   "name": "python3"
  },
  "language_info": {
   "codemirror_mode": {
    "name": "ipython",
    "version": 3
   },
   "file_extension": ".py",
   "mimetype": "text/x-python",
   "name": "python",
   "nbconvert_exporter": "python",
   "pygments_lexer": "ipython3",
   "version": "3.10.2"
  },
  "orig_nbformat": 4,
  "vscode": {
   "interpreter": {
    "hash": "d2da7a07a299f1c045beee0f7cf13628134c761eb69fc03136dd0dcd6519a276"
   }
  }
 },
 "nbformat": 4,
 "nbformat_minor": 2
}
