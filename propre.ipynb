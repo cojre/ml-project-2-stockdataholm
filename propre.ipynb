{
 "cells": [
  {
   "cell_type": "code",
   "execution_count": 1,
   "metadata": {},
   "outputs": [],
   "source": [
    "import pandas as pd\n",
    "from pathlib import Path\n",
    "\n",
    "import matplotlib\n",
    "import matplotlib.pyplot as plt\n",
    "import numpy as np\n",
    "import sys"
   ]
  },
  {
   "cell_type": "code",
   "execution_count": 3,
   "metadata": {},
   "outputs": [],
   "source": [
    "#Load all the data and drop first column each time\n",
    "df_jan = pd.read_csv('GHI01-Jan-202228-Feb-2022.csv', names=['Id', 'Date', 'Value']) \n",
    "df_jan = df_jan.iloc[1: , :] \n",
    "df_mar = pd.read_csv('GHI01-Mar-202230-Apr-2022.csv', names=['Id', 'Date', 'Value']) \n",
    "df_mar = df_mar.iloc[1: , :] \n",
    "df_may = pd.read_csv('GHI01-May-202230-Jun-2022.cvs', names=['Id', 'Date', 'Value']) \n",
    "df_may = df_may.iloc[1: , :] \n",
    "df_jul = pd.read_csv('GHI01-Jul-202231-Aug-2022.cvs', names=['Id', 'Date', 'Value']) \n",
    "df_jul = df_jul.iloc[1: , :]\n",
    "df_sep = pd.read_csv('GHI01-Sep-202231-Oct-2022.cvs', names=['Id', 'Date', 'Value']) \n",
    "df_sep = df_sep.iloc[1: , :]  "
   ]
  },
  {
   "cell_type": "code",
   "execution_count": 10,
   "metadata": {},
   "outputs": [],
   "source": [
    "#create one dataframe for all data\n",
    "df = pd.concat([df_jan,df_mar,df_may,df_jul,df_sep])\n",
    "df=df.drop(['Id'], axis=1)\n",
    "df['Value']=df['Value'].astype(float)\n"
   ]
  },
  {
   "cell_type": "code",
   "execution_count": 11,
   "metadata": {},
   "outputs": [],
   "source": [
    "df[\"Date\"]=df[\"Date\"].str.replace(\"Jan\",\"01\")\n",
    "df[\"Date\"]=df[\"Date\"].str.replace(\"Feb\",\"02\")\n",
    "df[\"Date\"]=df[\"Date\"].str.replace(\"Mar\",\"03\")\n",
    "df[\"Date\"]=df[\"Date\"].str.replace(\"Apr\",\"04\")\n",
    "df[\"Date\"]=df[\"Date\"].str.replace(\"May\",\"05\")\n",
    "df[\"Date\"]=df[\"Date\"].str.replace(\"Jun\",\"06\")\n",
    "df[\"Date\"]=df[\"Date\"].str.replace(\"Jul\",\"07\")\n",
    "df[\"Date\"]=df[\"Date\"].str.replace(\"Aug\",\"08\")\n",
    "df[\"Date\"]=df[\"Date\"].str.replace(\"Sep\",\"09\")\n",
    "df[\"Date\"]=df[\"Date\"].str.replace(\"Oct\",\"10\")\n",
    "df[\"Date\"]=df[\"Date\"].str.replace(\"Nov\",\"11\")\n",
    "df[\"Date\"]=df[\"Date\"].str.replace(\"Dec\",\"12\")"
   ]
  },
  {
   "cell_type": "code",
   "execution_count": 12,
   "metadata": {},
   "outputs": [],
   "source": [
    "#Transformer en datatime\n",
    "df['Date'] = pd.to_datetime(df['Date'], format=\"%d-%m-%Y %H:%M:%S\")"
   ]
  },
  {
   "cell_type": "code",
   "execution_count": 13,
   "metadata": {},
   "outputs": [
    {
     "data": {
      "text/html": [
       "<div>\n",
       "<style scoped>\n",
       "    .dataframe tbody tr th:only-of-type {\n",
       "        vertical-align: middle;\n",
       "    }\n",
       "\n",
       "    .dataframe tbody tr th {\n",
       "        vertical-align: top;\n",
       "    }\n",
       "\n",
       "    .dataframe thead th {\n",
       "        text-align: right;\n",
       "    }\n",
       "</style>\n",
       "<table border=\"1\" class=\"dataframe\">\n",
       "  <thead>\n",
       "    <tr style=\"text-align: right;\">\n",
       "      <th></th>\n",
       "      <th>Date</th>\n",
       "      <th>Value</th>\n",
       "    </tr>\n",
       "  </thead>\n",
       "  <tbody>\n",
       "    <tr>\n",
       "      <th>1</th>\n",
       "      <td>2022-01-01 00:00:00</td>\n",
       "      <td>1.210000</td>\n",
       "    </tr>\n",
       "    <tr>\n",
       "      <th>2</th>\n",
       "      <td>2022-01-01 00:01:00</td>\n",
       "      <td>1.249667</td>\n",
       "    </tr>\n",
       "    <tr>\n",
       "      <th>3</th>\n",
       "      <td>2022-01-01 00:02:00</td>\n",
       "      <td>1.315333</td>\n",
       "    </tr>\n",
       "    <tr>\n",
       "      <th>4</th>\n",
       "      <td>2022-01-01 00:03:00</td>\n",
       "      <td>1.205167</td>\n",
       "    </tr>\n",
       "    <tr>\n",
       "      <th>5</th>\n",
       "      <td>2022-01-01 00:04:00</td>\n",
       "      <td>1.344333</td>\n",
       "    </tr>\n",
       "  </tbody>\n",
       "</table>\n",
       "</div>"
      ],
      "text/plain": [
       "                 Date     Value\n",
       "1 2022-01-01 00:00:00  1.210000\n",
       "2 2022-01-01 00:01:00  1.249667\n",
       "3 2022-01-01 00:02:00  1.315333\n",
       "4 2022-01-01 00:03:00  1.205167\n",
       "5 2022-01-01 00:04:00  1.344333"
      ]
     },
     "execution_count": 13,
     "metadata": {},
     "output_type": "execute_result"
    }
   ],
   "source": []
  },
  {
   "cell_type": "code",
   "execution_count": null,
   "metadata": {},
   "outputs": [],
   "source": []
  }
 ],
 "metadata": {
  "kernelspec": {
   "display_name": "Python 3.10.2 64-bit",
   "language": "python",
   "name": "python3"
  },
  "language_info": {
   "codemirror_mode": {
    "name": "ipython",
    "version": 3
   },
   "file_extension": ".py",
   "mimetype": "text/x-python",
   "name": "python",
   "nbconvert_exporter": "python",
   "pygments_lexer": "ipython3",
   "version": "3.10.2"
  },
  "orig_nbformat": 4,
  "vscode": {
   "interpreter": {
    "hash": "2f18ae1c82ba0d1befbd8ad571958f790db3da070dcc76b89babdebdedc04470"
   }
  }
 },
 "nbformat": 4,
 "nbformat_minor": 2
}
