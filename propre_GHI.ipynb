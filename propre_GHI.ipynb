{
 "cells": [
  {
   "cell_type": "code",
   "execution_count": 1,
   "metadata": {},
   "outputs": [],
   "source": [
    "import pandas as pd\n",
    "from pathlib import Path\n",
    "\n",
    "import matplotlib\n",
    "import matplotlib.pyplot as plt\n",
    "import numpy as np\n",
    "import sys"
   ]
  },
  {
   "cell_type": "code",
   "execution_count": 3,
   "metadata": {},
   "outputs": [],
   "source": [
    "#Load all the data and drop first column each time\n",
    "df_jan = pd.read_csv('GHI01-Jan-202228-Feb-2022.csv', names=['Id', 'Date', 'Value']) \n",
    "df_jan = df_jan.iloc[1: , :] \n",
    "df_mar = pd.read_csv('GHI01-Mar-202230-Apr-2022.csv', names=['Id', 'Date', 'Value']) \n",
    "df_mar = df_mar.iloc[1: , :] \n",
    "df_may = pd.read_csv('GHI01-May-202230-Jun-2022.cvs', names=['Id', 'Date', 'Value']) \n",
    "df_may = df_may.iloc[1: , :] \n",
    "df_jul = pd.read_csv('GHI01-Jul-202231-Aug-2022.cvs', names=['Id', 'Date', 'Value']) \n",
    "df_jul = df_jul.iloc[1: , :]\n",
    "df_sep = pd.read_csv('GHI01-Sep-202231-Oct-2022.cvs', names=['Id', 'Date', 'Value']) \n",
    "df_sep = df_sep.iloc[1: , :]  "
   ]
  },
  {
   "cell_type": "code",
   "execution_count": 10,
   "metadata": {},
   "outputs": [],
   "source": [
    "#create one dataframe for all data\n",
    "df = pd.concat([df_jan,df_mar,df_may,df_jul,df_sep])\n",
    "df=df.drop(['Id'], axis=1)\n",
    "df['Value']=df['Value'].astype(float)\n"
   ]
  },
  {
   "cell_type": "code",
   "execution_count": 11,
   "metadata": {},
   "outputs": [],
   "source": [
    "df[\"Date\"]=df[\"Date\"].str.replace(\"Jan\",\"01\")\n",
    "df[\"Date\"]=df[\"Date\"].str.replace(\"Feb\",\"02\")\n",
    "df[\"Date\"]=df[\"Date\"].str.replace(\"Mar\",\"03\")\n",
    "df[\"Date\"]=df[\"Date\"].str.replace(\"Apr\",\"04\")\n",
    "df[\"Date\"]=df[\"Date\"].str.replace(\"May\",\"05\")\n",
    "df[\"Date\"]=df[\"Date\"].str.replace(\"Jun\",\"06\")\n",
    "df[\"Date\"]=df[\"Date\"].str.replace(\"Jul\",\"07\")\n",
    "df[\"Date\"]=df[\"Date\"].str.replace(\"Aug\",\"08\")\n",
    "df[\"Date\"]=df[\"Date\"].str.replace(\"Sep\",\"09\")\n",
    "df[\"Date\"]=df[\"Date\"].str.replace(\"Oct\",\"10\")\n",
    "df[\"Date\"]=df[\"Date\"].str.replace(\"Nov\",\"11\")\n",
    "df[\"Date\"]=df[\"Date\"].str.replace(\"Dec\",\"12\")"
   ]
  },
  {
   "cell_type": "code",
   "execution_count": 12,
   "metadata": {},
   "outputs": [],
   "source": [
    "#Transformer en datatime\n",
    "df['Date'] = pd.to_datetime(df['Date'], format=\"%d-%m-%Y %H:%M:%S\")"
   ]
  },
  {
   "cell_type": "code",
   "execution_count": 14,
   "metadata": {},
   "outputs": [
    {
     "data": {
      "image/png": "[encoded data removed]",
      "text/plain": [
       "<Figure size 432x288 with 1 Axes>"
      ]
     },
     "metadata": {
      "needs_background": "light"
     },
     "output_type": "display_data"
    }
   ],
   "source": [
    "consommation = df.set_index(\"Date\")\n",
    "ax=consommation[df[\"Date\"].min():df[\"Date\"].max()].plot(title='Plot')\n",
    "\n",
    "plt.xlabel('Date')\n",
    "plt.ylabel('Consommation')\n",
    "plt.show()"
   ]
  },
  {
   "cell_type": "code",
   "execution_count": null,
   "metadata": {},
   "outputs": [],
   "source": []
  }
 ],
 "metadata": {
  "kernelspec": {
   "display_name": "Python 3.10.8 64-bit (microsoft store)",
   "language": "python",
   "name": "python3"
  },
  "language_info": {
   "codemirror_mode": {
    "name": "ipython",
    "version": 3
   },
   "file_extension": ".py",
   "mimetype": "text/x-python",
   "name": "python",
   "nbconvert_exporter": "python",
   "pygments_lexer": "ipython3",
   "version": "3.10.8"
  },
  "orig_nbformat": 4,
  "vscode": {
   "interpreter": {
    "hash": "ff0be476a16568a54ac6f3fb48a3396cd78826c1ba331950e7d49b12a46d27f1"
   }
  }
 },
 "nbformat": 4,
 "nbformat_minor": 2
}
