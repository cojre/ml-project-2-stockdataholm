{
 "cells": [
  {
   "cell_type": "code",
   "execution_count": null,
   "metadata": {},
   "outputs": [],
   "source": [
    "import pandas as pd\n",
    "from pathlib import Path\n",
    "\n",
    "import matplotlib\n",
    "import matplotlib.pyplot as plt\n",
    "import numpy as np\n",
    "import sys\n",
    "\n",
    "\n"
   ]
  },
  {
   "cell_type": "code",
   "execution_count": null,
   "metadata": {},
   "outputs": [],
   "source": [
    "path='GHI01-Jan-202228-Feb-2022.csv'\n",
    "df = pd.read_csv(path, names=['Id', 'Date', 'Value'])    #ca trouvait pas le file quand le notebook etait dans code \n",
    "                            # oui coco j'ai essaye .append jsp quoi, j'ai pas reussi donc si toi tu \n",
    "                            #reussis dis moi"
   ]
  },
  {
   "cell_type": "code",
   "execution_count": null,
   "metadata": {},
   "outputs": [],
   "source": [
    "df.head()\n"
   ]
  },
  {
   "cell_type": "code",
   "execution_count": null,
   "metadata": {},
   "outputs": [],
   "source": [
    "df = df.iloc[1: , :]  #on drop la premiere ligne "
   ]
  },
  {
   "cell_type": "code",
   "execution_count": null,
   "metadata": {},
   "outputs": [],
   "source": [
    "df.head()\n"
   ]
  },
  {
   "cell_type": "code",
   "execution_count": null,
   "metadata": {},
   "outputs": [],
   "source": [
    "df['Day'] = df['Date'].str[:2]\n",
    "df['Day'] = df['Day'].astype(int)\n",
    "df['Month']=df['Date'].str[3:6]\n",
    "df['Year']=df['Date'].str[7:11]\n",
    "df['Year']=df['Year'].astype(int)\n",
    "df['Hour']=df['Date'].str[12:14]\n",
    "df['Hour']=df['Hour'].astype(int)\n",
    "df['Minute']=df['Date'].str[15:17]\n",
    "df['Minute']=df['Minute'].astype(int)\n",
    "df['Second']=df['Date'].str[18:20]\n",
    "df['Second']=df['Second'].astype(int)"
   ]
  },
  {
   "cell_type": "code",
   "execution_count": null,
   "metadata": {},
   "outputs": [],
   "source": [
    "df.head()\n"
   ]
  },
  {
   "cell_type": "code",
   "execution_count": null,
   "metadata": {},
   "outputs": [],
   "source": [
    "month_nums = {\"Month\":     {\"Jan\": 1, \"Feb\": 2}}\n",
    "df=df.replace(month_nums)"
   ]
  },
  {
   "cell_type": "code",
   "execution_count": null,
   "metadata": {},
   "outputs": [],
   "source": [
    "df.head()"
   ]
  },
  {
   "cell_type": "code",
   "execution_count": null,
   "metadata": {},
   "outputs": [],
   "source": [
    "df[\"Second\"].value_counts()\n",
    "#on a que des 0 pour les secondes => drop la colonne?"
   ]
  },
  {
   "cell_type": "code",
   "execution_count": null,
   "metadata": {},
   "outputs": [],
   "source": [
    "#df.plot(x='Hour', y='Value', kind='line')"
   ]
  },
  {
   "cell_type": "code",
   "execution_count": null,
   "metadata": {},
   "outputs": [],
   "source": [
    "#marche pas \n",
    "fig, axs = plt.subplots(figsize=(12, 4))\n",
    "\n",
    "df[\"Hour\"].plot(\n",
    "    kind='line', rot=0, ax=axs\n",
    ")\n",
    "\n",
    "\n",
    "\n",
    "plt.xlabel(\"Hour of the day\")\n",
    "\n",
    "plt.ylabel(\"Value\")"
   ]
  },
  {
   "cell_type": "code",
   "execution_count": null,
   "metadata": {},
   "outputs": [],
   "source": []
  },
  {
   "cell_type": "code",
   "execution_count": null,
   "metadata": {},
   "outputs": [],
   "source": [
    "path='GHI01-Jan-202228-Feb-2022.csv'\n",
    "df = pd.read_csv(path, names=['Id', 'Date', 'Value']) \n",
    "df = df.iloc[1: , :]  #on drop la premiere ligne \n",
    "#month_nums = {\"Date\": {\"Jan\": \"01\", \"Feb\": \"02\"}}\n",
    "df[\"Date\"]=df[\"Date\"].str.replace(\"Jan\",\"01\")\n",
    "df[\"Date\"]=df[\"Date\"].str.replace(\"Feb\",\"02\")\n",
    "df.head()"
   ]
  },
  {
   "cell_type": "code",
   "execution_count": null,
   "metadata": {},
   "outputs": [],
   "source": [
    "df['Date'] = pd.to_datetime(df['Date'], format=\"%d-%m-%Y %H:%M:%S\")"
   ]
  },
  {
   "cell_type": "code",
   "execution_count": null,
   "metadata": {},
   "outputs": [],
   "source": [
    "df.head()"
   ]
  },
  {
   "cell_type": "code",
   "execution_count": null,
   "metadata": {},
   "outputs": [],
   "source": [
    "df[\"Date\"].min(), df[\"Date\"].max()"
   ]
  },
  {
   "cell_type": "code",
   "execution_count": null,
   "metadata": {},
   "outputs": [],
   "source": [
    "df=df.drop(['Id'], axis=1)"
   ]
  },
  {
   "cell_type": "code",
   "execution_count": null,
   "metadata": {},
   "outputs": [],
   "source": [
    "df['Value']=df['Value'].astype(float)"
   ]
  },
  {
   "cell_type": "code",
   "execution_count": null,
   "metadata": {},
   "outputs": [],
   "source": [
    "\n",
    "consommation = df.set_index(\"Date\")\n",
    "\n",
    "\n",
    "consommation.head()"
   ]
  },
  {
   "cell_type": "code",
   "execution_count": null,
   "metadata": {},
   "outputs": [],
   "source": [
    "\n",
    "ax=consommation[df[\"Date\"].min():df[\"Date\"].max()].plot(title='Plot')\n",
    "\n",
    "plt.xlabel('Date')\n",
    "plt.ylabel('Consommation')\n",
    "plt.show()\n"
   ]
  },
  {
   "cell_type": "code",
   "execution_count": null,
   "metadata": {},
   "outputs": [],
   "source": [
    "ax=consommation['2022-01-10 00:00:00':'2022-01-17 00:00:00'].plot(title='Plot')\n",
    "\n",
    "plt.xlabel('Date')\n",
    "plt.ylabel('Consommation')\n",
    "plt.show()"
   ]
  },
  {
   "cell_type": "code",
   "execution_count": null,
   "metadata": {},
   "outputs": [],
   "source": [
    "df_jan = pd.read_csv('GHI01-Jan-202228-Feb-2022.csv', names=['Id', 'Date', 'Value']) \n",
    "df_jan = df_jan.iloc[1: , :] \n",
    "df_mar = pd.read_csv('GHI01-Mar-202230-Apr-2022.csv', names=['Id', 'Date', 'Value']) \n",
    "df_mar = df_mar.iloc[1: , :] \n",
    "df_may = pd.read_csv('GHI01-May-202230-Jun-2022.cvs', names=['Id', 'Date', 'Value']) \n",
    "df_may = df_may.iloc[1: , :] \n",
    "df_jul = pd.read_csv('GHI01-Jul-202231-Aug-2022.cvs', names=['Id', 'Date', 'Value']) \n",
    "df_jul = df_jul.iloc[1: , :]\n",
    "df_sep = pd.read_csv('GHI01-Sep-202231-Oct-2022.cvs', names=['Id', 'Date', 'Value']) \n",
    "df_sep = df_sep.iloc[1: , :]  \n",
    "df = pd.concat([df_jan,df_mar,df_may,df_jul,df_sep])\n",
    "df=df.drop(['Id'], axis=1)\n",
    "df['Value']=df['Value'].astype(float)\n",
    "df[\"Date\"]=df[\"Date\"].str.replace(\"Jan\",\"01\")\n",
    "df[\"Date\"]=df[\"Date\"].str.replace(\"Feb\",\"02\")\n",
    "df[\"Date\"]=df[\"Date\"].str.replace(\"Mar\",\"03\")\n",
    "df[\"Date\"]=df[\"Date\"].str.replace(\"Apr\",\"04\")\n",
    "df[\"Date\"]=df[\"Date\"].str.replace(\"May\",\"05\")\n",
    "df[\"Date\"]=df[\"Date\"].str.replace(\"Jun\",\"06\")\n",
    "df[\"Date\"]=df[\"Date\"].str.replace(\"Jul\",\"07\")\n",
    "df[\"Date\"]=df[\"Date\"].str.replace(\"Aug\",\"08\")\n",
    "df[\"Date\"]=df[\"Date\"].str.replace(\"Sep\",\"09\")\n",
    "df[\"Date\"]=df[\"Date\"].str.replace(\"Oct\",\"10\")\n",
    "df[\"Date\"]=df[\"Date\"].str.replace(\"Nov\",\"11\")\n",
    "df[\"Date\"]=df[\"Date\"].str.replace(\"Dec\",\"12\")\n",
    "df['Date'] = pd.to_datetime(df['Date'], format=\"%d-%m-%Y %H:%M:%S\")"
   ]
  },
  {
   "cell_type": "code",
   "execution_count": null,
   "metadata": {},
   "outputs": [],
   "source": [
    "consommation = df.set_index(\"Date\")\n",
    "ax=consommation[df[\"Date\"].min():df[\"Date\"].max()].plot(title='Plot')\n",
    "\n",
    "plt.xlabel('Date')\n",
    "plt.ylabel('Consommation')\n",
    "plt.show()"
   ]
  },
  {
   "cell_type": "code",
   "execution_count": null,
   "metadata": {},
   "outputs": [],
   "source": [
    "def plot_consommation(df, start, end):\n",
    "    consommation = df.set_index(\"Date\") \n",
    "    ax=consommation[start:end].plot(title='Plot')\n",
    "    plt.xlabel('Date')\n",
    "    plt.ylabel('Consommation')\n",
    "    plt.show()\n",
    "\n"
   ]
  },
  {
   "cell_type": "code",
   "execution_count": null,
   "metadata": {},
   "outputs": [],
   "source": [
    "def plot_scrollable_consommation_over_time_detailed_graph(): \n",
    "    fig, ax = plt.subplots(figsize=(12, 4))\n",
    "    ax.plot(df['Date'], df['Value'])\n",
    "    ax.set_title('Consommation over time')\n",
    "    ax.set_xlabel('Date')\n",
    "    ax.set_ylabel('Consommation')\n",
    "    ax.set_xlim(df['Date'].min(), df['Date'].max())\n",
    "    ax.set_ylim(df['Value'].min(), df['Value'].max())\n",
    "    ax.grid(True)\n",
    "    fig.autofmt_xdate()\n",
    "    plt.show()\n"
   ]
  },
  {
   "cell_type": "code",
   "execution_count": null,
   "metadata": {},
   "outputs": [],
   "source": [
    "plot_scrollable_consommation_over_time_detailed_graph()"
   ]
  },
  {
   "cell_type": "code",
   "execution_count": null,
   "metadata": {},
   "outputs": [],
   "source": [
    "\n"
   ]
  },
  {
   "cell_type": "code",
   "execution_count": null,
   "metadata": {},
   "outputs": [],
   "source": []
  },
  {
   "cell_type": "code",
   "execution_count": null,
   "metadata": {},
   "outputs": [],
   "source": []
  }
 ],
 "metadata": {
  "kernelspec": {
   "display_name": "Python 3.10.8 64-bit (microsoft store)",
   "language": "python",
   "name": "python3"
  },
  "language_info": {
   "codemirror_mode": {
    "name": "ipython",
    "version": 3
   },
   "file_extension": ".py",
   "mimetype": "text/x-python",
   "name": "python",
   "nbconvert_exporter": "python",
   "pygments_lexer": "ipython3",
   "version": "3.10.8"
  },
  "orig_nbformat": 4,
  "vscode": {
   "interpreter": {
    "hash": "ff0be476a16568a54ac6f3fb48a3396cd78826c1ba331950e7d49b12a46d27f1"
   }
  }
 },
 "nbformat": 4,
 "nbformat_minor": 2
}
